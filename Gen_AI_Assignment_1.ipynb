{
  "nbformat": 4,
  "nbformat_minor": 0,
  "metadata": {
    "colab": {
      "provenance": []
    },
    "kernelspec": {
      "name": "python3",
      "display_name": "Python 3"
    },
    "language_info": {
      "name": "python"
    }
  },
  "cells": [
    {
      "cell_type": "markdown",
      "source": [
        "Q1"
      ],
      "metadata": {
        "id": "7_z9kFL446uQ"
      }
    },
    {
      "cell_type": "code",
      "source": [
        "import numpy as np\n",
        "from sklearn.metrics import mean_absolute_error, mean_squared_error\n"
      ],
      "metadata": {
        "id": "jeJw4Vd5-Yel"
      },
      "execution_count": 6,
      "outputs": []
    },
    {
      "cell_type": "code",
      "source": [
        "y_actual = np.array([20, 30, 40, 50, 60])\n",
        "y_pred = np.array([20.5, 30.3, 40.2, 50.6, 60.7])"
      ],
      "metadata": {
        "id": "OolZS3sP_Ure"
      },
      "execution_count": 7,
      "outputs": []
    },
    {
      "cell_type": "code",
      "source": [
        "def calculate_metrics_scratch(y_true, y_pred):\n",
        "    mae = np.mean(np.abs(y_true - y_pred))\n",
        "\n",
        "    mse = np.mean((y_true - y_pred) ** 2)\n",
        "\n",
        "    rmse = np.sqrt(mse)\n",
        "\n",
        "    return mae, mse, rmse"
      ],
      "metadata": {
        "id": "Dco5n4vC_ZvP"
      },
      "execution_count": 8,
      "outputs": []
    },
    {
      "cell_type": "code",
      "source": [
        "mae_scratch, mse_scratch, rmse_scratch = calculate_metrics_scratch(y_actual, y_pred)\n",
        "\n",
        "mae_lib = mean_absolute_error(y_actual, y_pred)\n",
        "mse_lib = mean_squared_error(y_actual, y_pred)\n",
        "rmse_lib = np.sqrt(mean_squared_error(y_actual, y_pred))"
      ],
      "metadata": {
        "id": "7p0HeE-Y_b1n"
      },
      "execution_count": 9,
      "outputs": []
    },
    {
      "cell_type": "code",
      "source": [
        "print(\"Custom Implementation:\")\n",
        "print(f\"MAE: {mae_scratch:.4f}\")\n",
        "print(f\"MSE: {mse_scratch:.4f}\")\n",
        "print(f\"RMSE: {rmse_scratch:.4f}\")\n",
        "print(\"\\nLibrary Implementation:\")\n",
        "print(f\"MAE: {mae_lib:.4f}\")\n",
        "print(f\"MSE: {mse_lib:.4f}\")\n",
        "print(f\"RMSE: {rmse_lib:.4f}\")"
      ],
      "metadata": {
        "colab": {
          "base_uri": "https://localhost:8080/"
        },
        "id": "OmM8D51U_h8g",
        "outputId": "3dba5c15-1822-4603-80bd-9c8003ffbfa1"
      },
      "execution_count": 10,
      "outputs": [
        {
          "output_type": "stream",
          "name": "stdout",
          "text": [
            "Custom Implementation:\n",
            "MAE: 0.4600\n",
            "MSE: 0.2460\n",
            "RMSE: 0.4960\n",
            "\n",
            "Library Implementation:\n",
            "MAE: 0.4600\n",
            "MSE: 0.2460\n",
            "RMSE: 0.4960\n"
          ]
        }
      ]
    },
    {
      "cell_type": "markdown",
      "source": [
        "Q2\n"
      ],
      "metadata": {
        "id": "Z9w7pMvs_oi1"
      }
    },
    {
      "cell_type": "code",
      "source": [
        "import numpy as np\n",
        "from sklearn.metrics import r2_score, mean_absolute_percentage_error\n",
        "\n",
        "def calculate_evaluation_metrics(y_true, y_pred):\n",
        "\n",
        "    n = len(y_true)\n",
        "\n",
        "    r2 = r2_score(y_true, y_pred)\n",
        "\n",
        "    p = 1\n",
        "    adj_r2 = 1 - (1 - r2) * (n - 1) / (n - p - 1)\n",
        "\n",
        "    mape = mean_absolute_percentage_error(y_true, y_pred) * 100\n",
        "\n",
        "    y_true_mean = np.mean(y_true)\n",
        "    y_pred_mean = np.mean(y_pred)\n",
        "    numerator = np.sum((y_true - y_true_mean) * (y_pred - y_pred_mean))\n",
        "    denominator = np.sum((y_true - y_true_mean) ** 2)\n",
        "    explained_variance = numerator / denominator\n",
        "\n",
        "    return {\n",
        "        'R-squared': r2,\n",
        "        'Adjusted R-squared': adj_r2,\n",
        "        'MAPE': mape,\n",
        "        'Explained Variance': explained_variance\n",
        "    }\n",
        "\n",
        "y_actual = np.array([20, 30, 40, 50, 60])\n",
        "y_pred = np.array([20.5, 30.3, 40.2, 50.6, 60.7])\n",
        "\n",
        "metrics = calculate_evaluation_metrics(y_actual, y_pred)\n",
        "\n",
        "print(\"Evaluation Metrics:\")\n",
        "print(\"-\" * 40)\n",
        "for metric_name, value in metrics.items():\n",
        "    print(f\"{metric_name:20s}: {value:>10.4f}\")\n",
        "\n",
        "print(\"\\nLibrary Implementation Comparison:\")\n",
        "print(\"-\" * 40)\n",
        "print(f\"{'R-squared (sklearn)':20s}: {r2_score(y_actual, y_pred):>10.4f}\")\n",
        "print(f\"{'MAPE (sklearn)':20s}: {mean_absolute_percentage_error(y_actual, y_pred)*100:>10.4f}\")\n"
      ],
      "metadata": {
        "colab": {
          "base_uri": "https://localhost:8080/"
        },
        "id": "8ckWGrjz_qZk",
        "outputId": "b7d60086-336a-40f5-c82b-3142dce264e2"
      },
      "execution_count": 11,
      "outputs": [
        {
          "output_type": "stream",
          "name": "stdout",
          "text": [
            "Evaluation Metrics:\n",
            "----------------------------------------\n",
            "R-squared           :     0.9988\n",
            "Adjusted R-squared  :     0.9984\n",
            "MAPE                :     1.2733\n",
            "Explained Variance  :     1.0070\n",
            "\n",
            "Library Implementation Comparison:\n",
            "----------------------------------------\n",
            "R-squared (sklearn) :     0.9988\n",
            "MAPE (sklearn)      :     1.2733\n"
          ]
        }
      ]
    }
  ]
}
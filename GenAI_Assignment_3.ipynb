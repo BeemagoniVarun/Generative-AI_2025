{
  "nbformat": 4,
  "nbformat_minor": 0,
  "metadata": {
    "colab": {
      "provenance": []
    },
    "kernelspec": {
      "name": "python3",
      "display_name": "Python 3"
    },
    "language_info": {
      "name": "python"
    }
  },
  "cells": [
    {
      "cell_type": "markdown",
      "source": [
        "QUESTION-1"
      ],
      "metadata": {
        "id": "BHXt8rMDJTnd"
      }
    },
    {
      "cell_type": "code",
      "execution_count": null,
      "metadata": {
        "colab": {
          "base_uri": "https://localhost:8080/"
        },
        "id": "z-xZZoP7-85P",
        "outputId": "5a6091da-7b49-40ab-81ac-ef6445802222"
      },
      "outputs": [
        {
          "output_type": "stream",
          "name": "stdout",
          "text": [
            "The value of x at which f(x) has a minimum value is: 0.0\n"
          ]
        }
      ],
      "source": [
        "def f(x):\n",
        "    return 5 * x**4 + 3 * x**2 + 10\n",
        "\n",
        "def df(x):\n",
        "    return 20 * x**3 + 6 * x\n",
        "\n",
        "def gradient_descent(learning_rate, num_iterations):\n",
        "    x = 0\n",
        "    for _ in range(num_iterations):\n",
        "        x = x - learning_rate * df(x)\n",
        "    return x\n",
        "\n",
        "learning_rate = 0.01\n",
        "num_iterations = 1000\n",
        "\n",
        "min_x = gradient_descent(learning_rate, num_iterations)\n",
        "print(\"The value of x at which f(x) has a minimum value is:\", min_x)\n"
      ]
    },
    {
      "cell_type": "markdown",
      "source": [
        "QUESTION-2"
      ],
      "metadata": {
        "id": "oM04j8-SJdcX"
      }
    },
    {
      "cell_type": "code",
      "source": [
        "import math\n",
        "\n",
        "def g(x, y):\n",
        "    return 3 * x**2 + 5 * math.exp(-y) + 10\n",
        "\n",
        "def dg_dx(x, y):\n",
        "    return 6 * x\n",
        "\n",
        "def dg_dy(x, y):\n",
        "    return -5 * math.exp(-y)\n",
        "\n",
        "def gradient_descent_2d(learning_rate, num_iterations):\n",
        "    x, y = 0, 0\n",
        "    for _ in range(num_iterations):\n",
        "        x = x - learning_rate * dg_dx(x, y)\n",
        "        y = y - learning_rate * dg_dy(x, y)\n",
        "    return x, y\n",
        "\n",
        "learning_rate = 0.01\n",
        "num_iterations = 1000\n",
        "\n",
        "min_x, min_y = gradient_descent_2d(learning_rate, num_iterations)\n",
        "print(\"The values of x and y at which g(x,y) has a minimum value are:\", min_x, \"&\",min_y)\n"
      ],
      "metadata": {
        "colab": {
          "base_uri": "https://localhost:8080/"
        },
        "id": "cX7alP6XBS0G",
        "outputId": "e5aed00e-1a03-46d8-9302-3458ad43ccfd"
      },
      "execution_count": null,
      "outputs": [
        {
          "output_type": "stream",
          "name": "stdout",
          "text": [
            "The values of x and y at which g(x,y) has a minimum value are: 0.0 & 3.9337602416246904\n"
          ]
        }
      ]
    },
    {
      "cell_type": "markdown",
      "source": [
        "QUESTION-3"
      ],
      "metadata": {
        "id": "sPrbMdKUJg8J"
      }
    },
    {
      "cell_type": "code",
      "source": [
        "import math\n",
        "\n",
        "def z(x):\n",
        "    return 1 / (1 + math.exp(-x))\n",
        "\n",
        "def dz_dx(x):\n",
        "    return z(x) * (1 - z(x))\n",
        "\n",
        "def gradient_descent_sigmoid(learning_rate, num_iterations):\n",
        "    x = 0\n",
        "    for _ in range(num_iterations):\n",
        "        x = x - learning_rate * dz_dx(x)\n",
        "    return x\n",
        "\n",
        "learning_rate = 0.01\n",
        "num_iterations = 1000\n",
        "\n",
        "min_x = gradient_descent_sigmoid(learning_rate, num_iterations)\n",
        "print(\"The value of x at which z(x) has a minimum value is:\", min_x)\n"
      ],
      "metadata": {
        "colab": {
          "base_uri": "https://localhost:8080/"
        },
        "id": "7t__jZQTBVgv",
        "outputId": "5c8456c4-70f8-4661-cc7a-77c3add7ebdd"
      },
      "execution_count": null,
      "outputs": [
        {
          "output_type": "stream",
          "name": "stdout",
          "text": [
            "The value of x at which z(x) has a minimum value is: -1.8618354629020137\n"
          ]
        }
      ]
    },
    {
      "cell_type": "markdown",
      "source": [
        "QUESTION-4"
      ],
      "metadata": {
        "id": "lEWhnyD7Jkm8"
      }
    },
    {
      "cell_type": "code",
      "source": [
        "def predicted_output(input_value, M, C):\n",
        "    return input_value * M + C\n",
        "\n",
        "def square_error(input_value, M, C, expected_output):\n",
        "    predicted = predicted_output(input_value, M, C)\n",
        "    return (expected_output - predicted) ** 2\n",
        "\n",
        "def se_partial_M(input_value, M, C, expected_output):\n",
        "    predicted = predicted_output(input_value, M, C)\n",
        "    return -2 * input_value * (expected_output - predicted)\n",
        "\n",
        "def se_partial_C(input_value, M, C, expected_output):\n",
        "    predicted = predicted_output(input_value, M, C)\n",
        "    return -2 * (expected_output - predicted)\n",
        "\n",
        "def gradient_descent(input_value, expected_output, learning_rate, tolerance, max_iterations):\n",
        "    M, C = 0, 0\n",
        "    for iteration in range(max_iterations):\n",
        "        grad_M = se_partial_M(input_value, M, C, expected_output)\n",
        "        grad_C = se_partial_C(input_value, M, C, expected_output)\n",
        "\n",
        "        new_M = M - learning_rate * grad_M\n",
        "        new_C = C - learning_rate * grad_C\n",
        "        if abs(new_M - M) < tolerance and abs(new_C - C) < tolerance:\n",
        "            print(f\"Converged in {iteration + 1} iterations.\")\n",
        "            return new_M, new_C\n",
        "\n",
        "        M, C = new_M, new_C\n",
        "\n",
        "    print(\"Reached maximum iterations without full convergence.\")\n",
        "    return M, C\n",
        "\n",
        "input_value = 2\n",
        "expected_output = 0.5\n",
        "learning_rate = 0.01\n",
        "tolerance = 1e-6\n",
        "max_iterations = 10000\n",
        "optimal_M, optimal_C = gradient_descent(input_value, expected_output, learning_rate, tolerance, max_iterations)\n",
        "print(f\"Optimal values: M = {optimal_M:.6f}, C = {optimal_C:.6f}\")\n",
        "predicted = predicted_output(input_value, optimal_M, optimal_C)\n",
        "print(f\"Predicted output: {predicted:.6f}\")\n",
        "print(f\"Square Error: {square_error(input_value, optimal_M, optimal_C, expected_output):.6f}\")"
      ],
      "metadata": {
        "colab": {
          "base_uri": "https://localhost:8080/"
        },
        "id": "kePARU7DKUEg",
        "outputId": "877ab460-f588-4d87-a7d0-42b90472b229"
      },
      "execution_count": 8,
      "outputs": [
        {
          "output_type": "stream",
          "name": "stdout",
          "text": [
            "Converged in 95 iterations.\n",
            "Optimal values: M = 0.199991, C = 0.099996\n",
            "Predicted output: 0.499978\n",
            "Square Error: 0.000000\n"
          ]
        }
      ]
    }
  ]
}
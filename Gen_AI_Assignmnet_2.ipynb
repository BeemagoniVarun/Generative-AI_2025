{
  "nbformat": 4,
  "nbformat_minor": 0,
  "metadata": {
    "colab": {
      "provenance": [],
      "authorship_tag": "ABX9TyNE+tncnUtZ1oaeUV3x3Qrp",
      "include_colab_link": true
    },
    "kernelspec": {
      "name": "python3",
      "display_name": "Python 3"
    },
    "language_info": {
      "name": "python"
    }
  },
  "cells": [
    {
      "cell_type": "markdown",
      "metadata": {
        "id": "view-in-github",
        "colab_type": "text"
      },
      "source": [
        "<a href=\"https://colab.research.google.com/github/BeemagoniVarun/Generative-AI_2025/blob/main/Gen_AI_Assignmnet_2.ipynb\" target=\"_parent\"><img src=\"https://colab.research.google.com/assets/colab-badge.svg\" alt=\"Open In Colab\"/></a>"
      ]
    },
    {
      "cell_type": "code",
      "execution_count": 1,
      "metadata": {
        "colab": {
          "base_uri": "https://localhost:8080/"
        },
        "id": "2pNIoO8a7EpQ",
        "outputId": "2fdb6a69-4c30-4c76-d44d-1ed23cb7ea62"
      },
      "outputs": [
        {
          "output_type": "stream",
          "name": "stdout",
          "text": [
            "Optimal number of Chocolate A: 2\n",
            "Optimal number of Chocolate B: 3\n",
            "Maximum Profit: Rs 27\n",
            "\n",
            "Verification:\n",
            "Milk used: 5 units (must be ≤ 5)\n",
            "Choco used: 12 units (must be ≤ 12)\n"
          ]
        }
      ],
      "source": [
        "def calculate_profit(a, b):\n",
        "    return 6*a + 5*b\n",
        "\n",
        "def is_valid(a, b):\n",
        "    if a + b > 5:\n",
        "        return False\n",
        "    if 3*a + 2*b > 12:\n",
        "        return False\n",
        "    return True\n",
        "\n",
        "max_profit = 0\n",
        "best_a = 0\n",
        "best_b = 0\n",
        "\n",
        "for a in range(6):\n",
        "    for b in range(6):\n",
        "        if is_valid(a, b):\n",
        "            profit = calculate_profit(a, b)\n",
        "            if profit > max_profit:\n",
        "                max_profit = profit\n",
        "                best_a = a\n",
        "                best_b = b\n",
        "\n",
        "print(f\"Optimal number of Chocolate A: {best_a}\")\n",
        "print(f\"Optimal number of Chocolate B: {best_b}\")\n",
        "print(f\"Maximum Profit: Rs {max_profit}\")\n",
        "\n",
        "print(\"\\nVerification:\")\n",
        "print(f\"Milk used: {best_a + best_b} units (must be ≤ 5)\")\n",
        "print(f\"Choco used: {3*best_a + 2*best_b} units (must be ≤ 12)\")\n"
      ]
    },
    {
      "cell_type": "code",
      "source": [
        "from scipy.optimize import linprog\n",
        "c = [-50, -120]\n",
        "A = [\n",
        "    [1, 1],\n",
        "    [7000, 2000],\n",
        "    [10, 30]\n",
        "]\n",
        "b = [110, 700000, 1200]\n",
        "x_bounds = (0, None)\n",
        "y_bounds = (0, None)\n",
        "result = linprog(c, A_ub=A, b_ub=b, bounds=[x_bounds, y_bounds], method='highs')\n",
        "if result.success:\n",
        "    print(f\"Optimal number of hectares of Wheat to plant: {result.x[0]:.2f}\")\n",
        "    print(f\"Optimal number of hectares of Barley to plant: {result.x[1]:.2f}\")\n",
        "    print(f\"Maximum profit: Rs {result.fun * -1:.2f}\")  # Since we minimized -profit\n",
        "else:\n",
        "    print(\"No solution found.\")"
      ],
      "metadata": {
        "colab": {
          "base_uri": "https://localhost:8080/"
        },
        "id": "TFWkEU_t-7q5",
        "outputId": "17f1b5af-34dc-478c-8010-2164fa56caba"
      },
      "execution_count": 2,
      "outputs": [
        {
          "output_type": "stream",
          "name": "stdout",
          "text": [
            "Optimal number of hectares of Wheat to plant: 97.89\n",
            "Optimal number of hectares of Barley to plant: 7.37\n",
            "Maximum profit: Rs 5778.95\n"
          ]
        }
      ]
    }
  ]
}